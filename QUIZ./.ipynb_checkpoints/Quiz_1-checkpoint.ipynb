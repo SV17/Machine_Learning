{
 "cells": [
  {
   "cell_type": "markdown",
   "metadata": {},
   "source": [
    "# Code to convert an Integer to string"
   ]
  },
  {
   "cell_type": "code",
   "execution_count": 1,
   "metadata": {},
   "outputs": [
    {
     "name": "stdout",
     "output_type": "stream",
     "text": [
      "<type 'int'>\n",
      "<type 'str'>\n"
     ]
    }
   ],
   "source": [
    "x = 17\n",
    "print type(x)\n",
    "x = str(x)\n",
    "print type(x)"
   ]
  },
  {
   "cell_type": "markdown",
   "metadata": {},
   "source": [
    "## Given the age of Mr. Robben in a variable age = 33, write code to output a string Age of Mr. Robben is 33 years. You have to make use of the given variable."
   ]
  },
  {
   "cell_type": "code",
   "execution_count": 2,
   "metadata": {},
   "outputs": [
    {
     "name": "stdout",
     "output_type": "stream",
     "text": [
      "Age of Mr. Robben is 33 years\n"
     ]
    }
   ],
   "source": [
    "age = 33\n",
    "print 'Age of Mr. Robben is %i years' % (age)"
   ]
  },
  {
   "cell_type": "markdown",
   "metadata": {},
   "source": [
    "## Write code to input a number and return a string Positive if the number is greater than zero, Negative if the number is less than zero and Aryabhatta otherwise."
   ]
  },
  {
   "cell_type": "code",
   "execution_count": 3,
   "metadata": {},
   "outputs": [
    {
     "name": "stdout",
     "output_type": "stream",
     "text": [
      "7\n",
      "Positive\n"
     ]
    }
   ],
   "source": [
    "x = int(raw_input())\n",
    "if x > 0:\n",
    "    print 'Positive'\n",
    "elif x < 0:\n",
    "    print 'Negative'\n",
    "else:\n",
    "    print 'Aryabhatta'"
   ]
  }
 ],
 "metadata": {
  "kernelspec": {
   "display_name": "Python 2",
   "language": "python",
   "name": "python2"
  },
  "language_info": {
   "codemirror_mode": {
    "name": "ipython",
    "version": 2
   },
   "file_extension": ".py",
   "mimetype": "text/x-python",
   "name": "python",
   "nbconvert_exporter": "python",
   "pygments_lexer": "ipython2",
   "version": "2.7.14"
  }
 },
 "nbformat": 4,
 "nbformat_minor": 2
}
