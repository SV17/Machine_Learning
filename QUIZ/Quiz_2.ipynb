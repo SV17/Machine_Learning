{
 "cells": [
  {
   "cell_type": "code",
   "execution_count": 1,
   "metadata": {},
   "outputs": [],
   "source": [
    "import numpy as np"
   ]
  },
  {
   "cell_type": "markdown",
   "metadata": {},
   "source": [
    "## Question 1"
   ]
  },
  {
   "cell_type": "code",
   "execution_count": 2,
   "metadata": {},
   "outputs": [
    {
     "name": "stdout",
     "output_type": "stream",
     "text": [
      "A=[[4 3]\n",
      " [6 9]]\n",
      "B=[[-2  9]\n",
      " [-5  2]]\n"
     ]
    }
   ],
   "source": [
    "A = np.array([[4,3],[6,9]])\n",
    "print 'A=' +str(A)\n",
    "\n",
    "B = np.array([[-2,9],[-5,2]])\n",
    "print 'B=' + str(B)"
   ]
  },
  {
   "cell_type": "code",
   "execution_count": 3,
   "metadata": {},
   "outputs": [
    {
     "name": "stdout",
     "output_type": "stream",
     "text": [
      "[[ 6 -6]\n",
      " [11  7]]\n"
     ]
    }
   ],
   "source": [
    "print A-B"
   ]
  },
  {
   "cell_type": "markdown",
   "metadata": {},
   "source": [
    "## Question 2"
   ]
  },
  {
   "cell_type": "code",
   "execution_count": 4,
   "metadata": {},
   "outputs": [
    {
     "name": "stdout",
     "output_type": "stream",
     "text": [
      "[[2]\n",
      " [7]\n",
      " [4]\n",
      " [1]]\n"
     ]
    }
   ],
   "source": [
    "x = np.array([[2],[7],[4],[1]])\n",
    "print x"
   ]
  },
  {
   "cell_type": "code",
   "execution_count": 20,
   "metadata": {},
   "outputs": [
    {
     "data": {
      "text/plain": [
       "array([[1. ],\n",
       "       [3.5],\n",
       "       [2. ],\n",
       "       [0.5]])"
      ]
     },
     "execution_count": 20,
     "metadata": {},
     "output_type": "execute_result"
    }
   ],
   "source": [
    "np.multiply(0.5,x)"
   ]
  },
  {
   "cell_type": "markdown",
   "metadata": {},
   "source": [
    "## Question 3"
   ]
  },
  {
   "cell_type": "code",
   "execution_count": 6,
   "metadata": {},
   "outputs": [
    {
     "name": "stdout",
     "output_type": "stream",
     "text": [
      "[[8]\n",
      " [1]\n",
      " [4]]\n"
     ]
    }
   ],
   "source": [
    "u = np.array([[8],[1],[4]])\n",
    "print u"
   ]
  },
  {
   "cell_type": "code",
   "execution_count": 11,
   "metadata": {},
   "outputs": [
    {
     "data": {
      "text/plain": [
       "array([[ 1,  3, -1]])"
      ]
     },
     "execution_count": 11,
     "metadata": {},
     "output_type": "execute_result"
    }
   ],
   "source": [
    "np.transpose(u)"
   ]
  },
  {
   "cell_type": "markdown",
   "metadata": {},
   "source": [
    "## Question 4"
   ]
  },
  {
   "cell_type": "code",
   "execution_count": 12,
   "metadata": {},
   "outputs": [
    {
     "data": {
      "text/plain": [
       "array([[4]])"
      ]
     },
     "execution_count": 12,
     "metadata": {},
     "output_type": "execute_result"
    }
   ],
   "source": [
    "u = np.array([[1],[3],[-1]])\n",
    "v = np.array([[2],[2],[4]])\n",
    "t = np.transpose(u)\n",
    "np.matmul(t,v)"
   ]
  },
  {
   "cell_type": "markdown",
   "metadata": {},
   "source": [
    "## Question 5\n",
    "Let A and B be 3X3 (square) matrices. \n",
    "a. A*B = B*A\n",
    "\n",
    "b. If B is a 3X3 identity matrix, then A*B = B*A\n",
    "\n",
    "c. (A*B)*A = A*(B*A)\n",
    "\n",
    "d. If C = A*B, then C is a 6*\\6 matrix."
   ]
  },
  {
   "cell_type": "code",
   "execution_count": 13,
   "metadata": {},
   "outputs": [
    {
     "name": "stdout",
     "output_type": "stream",
     "text": [
      "Which of the following must necessarily hold true? b. and c.\n",
      "Answer is b. and c.\n"
     ]
    }
   ],
   "source": [
    "answer = raw_input('Which of the following must necessarily hold true? ')\n",
    "print 'Answer is ' + str(answer)"
   ]
  }
 ],
 "metadata": {
  "kernelspec": {
   "display_name": "Python 2",
   "language": "python",
   "name": "python2"
  },
  "language_info": {
   "codemirror_mode": {
    "name": "ipython",
    "version": 2
   },
   "file_extension": ".py",
   "mimetype": "text/x-python",
   "name": "python",
   "nbconvert_exporter": "python",
   "pygments_lexer": "ipython2",
   "version": "2.7.14"
  }
 },
 "nbformat": 4,
 "nbformat_minor": 2
}
