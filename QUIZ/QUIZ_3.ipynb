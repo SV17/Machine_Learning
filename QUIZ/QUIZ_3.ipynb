{
 "cells": [
  {
   "cell_type": "markdown",
   "metadata": {},
   "source": [
    "# Question 1 : Calculate the sum of squares (SS) of the following set of values using the standard formula for the sum of squares.\n",
    "\n",
    "# X = [2.6, 1.9, 3.7, 2.5, 3.1, 2.8]\n",
    "\n",
    "##### Solution : \n",
    "Mean = 2.77\n",
    "(2.6-2.77)2 = 0.029\n",
    "\n",
    "(1.9-2.77)2 = 0.757\n",
    "\n",
    "(2.5-2.77)2 = 0.073\n",
    "\n",
    "(3.1-2.77)2 = 0.109\n",
    "\n",
    "(3.7-2.77)2 = 0.865\n",
    "\n",
    "(2.8-2.77)2 = 0.001\n",
    "\n",
    "Sum of Squares = 1.833"
   ]
  },
  {
   "cell_type": "code",
   "execution_count": 7,
   "metadata": {},
   "outputs": [
    {
     "name": "stdout",
     "output_type": "stream",
     "text": [
      "sum of squares for the given list : 1.8333\n"
     ]
    }
   ],
   "source": [
    "from math import pow\n",
    "\n",
    "def sum_of_squares(X):\n",
    "    sum = i = sq_sum = 0   \n",
    "    for x in X:\n",
    "        sum += x\n",
    "        i+= 1\n",
    "    mean = sum/i\n",
    "\n",
    "    for x in X:\n",
    "        sq_sum += pow((x-mean),2)\n",
    "    return sq_sum \n",
    "\n",
    "X = [2.6, 1.9, 3.7, 2.5, 3.1, 2.8]\n",
    "print(\"sum of squares for the given list : %.4f\" %(sum_of_squares(X)))"
   ]
  },
  {
   "cell_type": "markdown",
   "metadata": {},
   "source": [
    "# Question 2 : If the sample standard deviation of 30 values is 1.79, what is the sum of squares (SS)?\n",
    "\n",
    "##### Solution : \n",
    "Variance = Squaring of Standard Deviation\n",
    "Then multiplying the variance times n-1 to give the SS.\n",
    "Given, Standard Deviation, S = 1.79\n",
    "Number of Values, n = 30\n",
    "\n",
    "Square of Standard Deviation = 1.79 * 1.79 = 3.2041\n",
    "\n",
    "Square of Standard Deviation = Sum of Squares/(n-1)\n",
    "\n",
    "Sum of Squares = Square of Standard Deviation * (n-1)\n",
    "\n",
    "Sum of Squares = 3.2041 * 29 = 92.9189\n"
   ]
  },
  {
   "cell_type": "code",
   "execution_count": 1,
   "metadata": {},
   "outputs": [
    {
     "name": "stdout",
     "output_type": "stream",
     "text": [
      "Sum Of Squares : 92.9189\n"
     ]
    }
   ],
   "source": [
    "from math import pow\n",
    "standard_deviation = 1.79\n",
    "n = 30\n",
    "variance = pow((standard_deviation),2)\n",
    "print(\"Sum Of Squares : %.4f\" %(variance * (n-1)))"
   ]
  },
  {
   "cell_type": "markdown",
   "metadata": {},
   "source": [
    "# Question 3 : Calculate the mean, median, sum of squares, variance, standard deviation for the following 6 values:\n",
    "# X = [16, 22, 11, 14, 13, 31]\n",
    "\n",
    "##### Solution : \n",
    "Mean = 17.8, Median = 15, Sum of Squares = 278.83, Variance = 55.77, Standard Deviation = 7.47"
   ]
  },
  {
   "cell_type": "code",
   "execution_count": 3,
   "metadata": {},
   "outputs": [
    {
     "name": "stdout",
     "output_type": "stream",
     "text": [
      "Mean: 17.833 \n",
      "Median: 15 \n",
      "Sum of squares: 283.000 \n",
      "Variance: 46.472 \n",
      "Standard deviation: 6.817\n"
     ]
    }
   ],
   "source": [
    "import numpy as n\n",
    "from math import pow\n",
    "\n",
    "def sum_of_squares(X):\n",
    "    sum = i = sq_sum = 0   \n",
    "    for x in X:\n",
    "        sum += x\n",
    "        i+= 1\n",
    "    mean = sum/i\n",
    "\n",
    "    for x in X:\n",
    "        sq_sum += pow((x-mean),2)\n",
    "    return sq_sum \n",
    "\n",
    "X = [16, 22, 11, 14, 13, 31]\n",
    "print(\"Mean: %.3f \\nMedian: %d \\nSum of squares: %.3f \\nVariance: %.3f \\nStandard deviation: %.3f\"\\\n",
    "      %(n.mean(X),n.median(X),sum_of_squares(X),n.var(X),n.std(X)))"
   ]
  }
 ],
 "metadata": {
  "kernelspec": {
   "display_name": "Python 2",
   "language": "python",
   "name": "python2"
  },
  "language_info": {
   "codemirror_mode": {
    "name": "ipython",
    "version": 2
   },
   "file_extension": ".py",
   "mimetype": "text/x-python",
   "name": "python",
   "nbconvert_exporter": "python",
   "pygments_lexer": "ipython2",
   "version": "2.7.14"
  }
 },
 "nbformat": 4,
 "nbformat_minor": 2
}
