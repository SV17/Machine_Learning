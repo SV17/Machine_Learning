{
 "cells": [
  {
   "cell_type": "markdown",
   "metadata": {},
   "source": [
    "# Question 1"
   ]
  },
  {
   "cell_type": "code",
   "execution_count": 7,
   "metadata": {},
   "outputs": [
    {
     "name": "stdout",
     "output_type": "stream",
     "text": [
      "sum of squares for the given list : 1.8333\n"
     ]
    }
   ],
   "source": [
    "from math import pow\n",
    "\n",
    "def sum_of_squares(X):\n",
    "    sum = i = sq_sum = 0   \n",
    "    for x in X:\n",
    "        sum += x\n",
    "        i+= 1\n",
    "    mean = sum/i\n",
    "\n",
    "    for x in X:\n",
    "        sq_sum += pow((x-mean),2)\n",
    "    return sq_sum \n",
    "\n",
    "X = [2.6, 1.9, 3.7, 2.5, 3.1, 2.8]\n",
    "print(\"sum of squares for the given list : %.4f\" %(sum_of_squares(X)))"
   ]
  },
  {
   "cell_type": "markdown",
   "metadata": {},
   "source": [
    "# Question 2"
   ]
  },
  {
   "cell_type": "code",
   "execution_count": 2,
   "metadata": {},
   "outputs": [
    {
     "name": "stdout",
     "output_type": "stream",
     "text": [
      "Sum of squares : 92.9189\n"
     ]
    }
   ],
   "source": [
    "from math import pow\n",
    "standard_deviation = 1.79\n",
    "n = 30\n",
    "variance = pow((standard_deviation),2)\n",
    "print(\"Sum of squares : %.4f\" %(variance * (n-1)))"
   ]
  },
  {
   "cell_type": "markdown",
   "metadata": {},
   "source": [
    "# Question 3"
   ]
  },
  {
   "cell_type": "code",
   "execution_count": 3,
   "metadata": {},
   "outputs": [
    {
     "name": "stdout",
     "output_type": "stream",
     "text": [
      "Mean: 17.833 \n",
      "Median: 15 \n",
      "Sum of squares: 283.000 \n",
      "Variance: 46.472 \n",
      "Standard deviation: 6.817\n"
     ]
    }
   ],
   "source": [
    "import numpy as n\n",
    "from math import pow\n",
    "\n",
    "def sum_of_squares(X):\n",
    "    sum = i = sq_sum = 0   \n",
    "    for x in X:\n",
    "        sum += x\n",
    "        i+= 1\n",
    "    mean = sum/i\n",
    "\n",
    "    for x in X:\n",
    "        sq_sum += pow((x-mean),2)\n",
    "    return sq_sum \n",
    "\n",
    "X = [16, 22, 11, 14, 13, 31]\n",
    "print(\"Mean: %.3f \\nMedian: %d \\nSum of squares: %.3f \\nVariance: %.3f \\nStandard deviation: %.3f\"\\\n",
    "      %(n.mean(X),n.median(X),sum_of_squares(X),n.var(X),n.std(X)))"
   ]
  }
 ],
 "metadata": {
  "kernelspec": {
   "display_name": "Python 2",
   "language": "python",
   "name": "python2"
  },
  "language_info": {
   "codemirror_mode": {
    "name": "ipython",
    "version": 2
   },
   "file_extension": ".py",
   "mimetype": "text/x-python",
   "name": "python",
   "nbconvert_exporter": "python",
   "pygments_lexer": "ipython2",
   "version": "2.7.14"
  }
 },
 "nbformat": 4,
 "nbformat_minor": 2
}
